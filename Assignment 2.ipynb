{
 "cells": [
  {
   "cell_type": "code",
   "execution_count": 1,
   "id": "9514d0a4",
   "metadata": {},
   "outputs": [],
   "source": [
    "#Explain with an example each when to use a for loop and a while loop?\n",
    "\n",
    "# The for loop is used when we already know the number of iterations, which means when we know how many times a statement has to be executed. \n",
    "# That is why we have to specify the ending point in the for loop initialization. When we need to end the loop on a condition other than the number of times, we use a while loop.\n"
   ]
  },
  {
   "cell_type": "code",
   "execution_count": 2,
   "id": "78aa77cb",
   "metadata": {},
   "outputs": [
    {
     "name": "stdout",
     "output_type": "stream",
     "text": [
      "1\n",
      "2\n",
      "3\n"
     ]
    }
   ],
   "source": [
    "n = [1,2,3]\n",
    "for i in n:\n",
    "    print(i)"
   ]
  },
  {
   "cell_type": "code",
   "execution_count": 3,
   "id": "a041a97b",
   "metadata": {},
   "outputs": [
    {
     "name": "stdout",
     "output_type": "stream",
     "text": [
      "1\n",
      "2\n",
      "3\n",
      "4\n",
      "5\n"
     ]
    }
   ],
   "source": [
    "i = 1\n",
    "while i < 6:\n",
    "    print(i)\n",
    "    i+=1"
   ]
  },
  {
   "cell_type": "code",
   "execution_count": 1,
   "id": "ad2e94b9",
   "metadata": {},
   "outputs": [],
   "source": [
    "#Write a python program to find sum and product of first 10 natural numbers by using for and while loop?"
   ]
  },
  {
   "cell_type": "code",
   "execution_count": 2,
   "id": "99161338",
   "metadata": {},
   "outputs": [
    {
     "name": "stdout",
     "output_type": "stream",
     "text": [
      "enter your number10\n",
      "55\n"
     ]
    }
   ],
   "source": [
    "n = int(input(\"enter your number\"))\n",
    "if n<0:\n",
    "    print(\"Invalid input\")\n",
    "else:\n",
    "    sum = 0\n",
    "    for i in range(1,n+1):\n",
    "        sum = sum + i\n",
    "print(sum)"
   ]
  },
  {
   "cell_type": "code",
   "execution_count": 3,
   "id": "30e47505",
   "metadata": {},
   "outputs": [
    {
     "name": "stdout",
     "output_type": "stream",
     "text": [
      "enter your number10\n",
      "55\n"
     ]
    }
   ],
   "source": [
    "n = int(input(\"enter your number\"))\n",
    "\n",
    "sum = 0\n",
    "i=1\n",
    "while i<=n:\n",
    "        sum = sum + i\n",
    "        i = i + 1\n",
    "print(sum)"
   ]
  },
  {
   "cell_type": "code",
   "execution_count": 4,
   "id": "c10f965d",
   "metadata": {},
   "outputs": [
    {
     "name": "stdout",
     "output_type": "stream",
     "text": [
      "enter your number10\n",
      "3628800\n"
     ]
    }
   ],
   "source": [
    "n = int(input(\"enter your number\"))\n",
    "if n<0:\n",
    "    print(\"Invalid input\")\n",
    "else:\n",
    "    product = 1\n",
    "    for i in range(1,n+1):\n",
    "        product = product*i\n",
    "print(product)"
   ]
  },
  {
   "cell_type": "code",
   "execution_count": 5,
   "id": "16d8b6ec",
   "metadata": {},
   "outputs": [
    {
     "name": "stdout",
     "output_type": "stream",
     "text": [
      "enter your number10\n",
      "3628800\n"
     ]
    }
   ],
   "source": [
    "n = int(input(\"enter your number\"))\n",
    "product = 1\n",
    "i = 1\n",
    "while i <=n:\n",
    "    product = product*i\n",
    "    i = i+1\n",
    "print(product)"
   ]
  },
  {
   "cell_type": "code",
   "execution_count": 6,
   "id": "ff2b3e6a",
   "metadata": {},
   "outputs": [
    {
     "name": "stdout",
     "output_type": "stream",
     "text": [
      "enter the units of elecricity consumed in a month310\n",
      "2250\n"
     ]
    }
   ],
   "source": [
    "# Write a program to compute the electricity bill of a household?\n",
    "\n",
    "n=int(input(\"enter the units of elecricity consumed in a month\"))\n",
    "if n<=100:\n",
    "    bill = n*4.5\n",
    "elif n>=101 and n<=200:\n",
    "    bill = 450 + ((n-100)*6)\n",
    "elif n >=201 and n<=300:\n",
    "    bill = 450 + 600 + ((n-200)*10)\n",
    "else:\n",
    "    bill = 450 + 600 + 1000 + ((n-300)*20)\n",
    "print(bill)\n",
    "    \n",
    "    "
   ]
  },
  {
   "cell_type": "code",
   "execution_count": 7,
   "id": "7cdcdbf9",
   "metadata": {},
   "outputs": [],
   "source": [
    "# Create a list of numbers from 1 to 100.Use for loop and while loop to calculate the cube of each number and if the cube of that\n",
    "# number is divisible by 4 or 5 then append that number in a list and print that list. "
   ]
  },
  {
   "cell_type": "code",
   "execution_count": 29,
   "id": "31c837bc",
   "metadata": {},
   "outputs": [],
   "source": [
    "l = list(range(1,101))\n",
    "l1 = []\n",
    "l2 = []\n",
    "for i in l:\n",
    "    l1.append(i**3)\n",
    "for j in l1:\n",
    "    if j % 4 == 0 or j % 5 == 0:\n",
    "        l2.append(j)\n",
    "            "
   ]
  },
  {
   "cell_type": "code",
   "execution_count": 45,
   "id": "72fb667a",
   "metadata": {},
   "outputs": [],
   "source": [
    "l1 = []\n",
    "l2 = []\n",
    "i = 1\n",
    "while i <=100:\n",
    "    l1.append(i**3)\n",
    "    i = i+1\n",
    "for j in l1:\n",
    "    if j % 4 == 0 or j % 5 == 0:\n",
    "        l2.append(j)\n"
   ]
  },
  {
   "cell_type": "code",
   "execution_count": 48,
   "id": "f8cce6cb",
   "metadata": {},
   "outputs": [],
   "source": [
    "# Write a program to filter count vowels in the below given vowel string\n",
    "#string = \"I want to become a data scientist\""
   ]
  },
  {
   "cell_type": "code",
   "execution_count": null,
   "id": "29c85a8f",
   "metadata": {},
   "outputs": [],
   "source": [
    "string = \"I want to become a data scientist\"\n"
   ]
  }
 ],
 "metadata": {
  "kernelspec": {
   "display_name": "Python 3 (ipykernel)",
   "language": "python",
   "name": "python3"
  },
  "language_info": {
   "codemirror_mode": {
    "name": "ipython",
    "version": 3
   },
   "file_extension": ".py",
   "mimetype": "text/x-python",
   "name": "python",
   "nbconvert_exporter": "python",
   "pygments_lexer": "ipython3",
   "version": "3.9.12"
  }
 },
 "nbformat": 4,
 "nbformat_minor": 5
}

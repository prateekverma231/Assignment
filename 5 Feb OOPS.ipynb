{
 "cells": [
  {
   "cell_type": "markdown",
   "id": "bc1ff310",
   "metadata": {},
   "source": [
    "# Q1.Explain Class and Object with respect to Object-Oriented     Programming.Give a suitable example."
   ]
  },
  {
   "cell_type": "code",
   "execution_count": 14,
   "id": "06a99629",
   "metadata": {},
   "outputs": [],
   "source": [
    "# Ans- Class => Class is just a blueprint or skelton or generalisation or overall define things related to OOPS. \n",
    "#            or classify real world objects.Eg.[int,float,string etc..]\n",
    "\n",
    "# Object => real world entity for example.[1,2,3,2.0,5.0,\"rohan\",\"sohan\"] are all objects whose class is [int,float,string]."
   ]
  },
  {
   "cell_type": "markdown",
   "id": "cae4aa16",
   "metadata": {},
   "source": [
    "# Q2. Name the four pillars of OOPS."
   ]
  },
  {
   "cell_type": "code",
   "execution_count": 8,
   "id": "b7183422",
   "metadata": {},
   "outputs": [],
   "source": [
    "# Ans => The deinition of data structures or objects with individual attributes or properties is done in object-oriented programming\n",
    "\n",
    "#         There are four pillars of object-oreinted programming \n",
    "\n",
    "#         1.Inheritance\n",
    "#         2.Polymorphism\n",
    "#         3.Encapsulation\n",
    "#         4.Abstraction"
   ]
  },
  {
   "cell_type": "markdown",
   "id": "5a1dbb28",
   "metadata": {},
   "source": [
    "# Q3. Explain why the __init__() function is used.Give a suitable example."
   ]
  },
  {
   "cell_type": "code",
   "execution_count": null,
   "id": "8f523255",
   "metadata": {},
   "outputs": [],
   "source": [
    "#  Ans=> init() is a constructer in oops.It's full name is intialisation.The init() function is used to assign values to object\n",
    "#       proprties,or other operations that are necessary to do when the object is being created."
   ]
  },
  {
   "cell_type": "code",
   "execution_count": 9,
   "id": "b50afffe",
   "metadata": {},
   "outputs": [],
   "source": [
    "class Person:\n",
    "    \n",
    "    def __init__(self,name,age):\n",
    "        self.name = name\n",
    "        self.age = age\n",
    "        \n",
    "    def person_details(self):\n",
    "        return self.name,self.age"
   ]
  },
  {
   "cell_type": "code",
   "execution_count": 10,
   "id": "68e9c2a6",
   "metadata": {},
   "outputs": [],
   "source": [
    "p1 = Person(\"Sameer\",32)"
   ]
  },
  {
   "cell_type": "code",
   "execution_count": 11,
   "id": "c858c270",
   "metadata": {},
   "outputs": [
    {
     "data": {
      "text/plain": [
       "'Sameer'"
      ]
     },
     "execution_count": 11,
     "metadata": {},
     "output_type": "execute_result"
    }
   ],
   "source": [
    "p1.name"
   ]
  },
  {
   "cell_type": "code",
   "execution_count": 12,
   "id": "a4537a5f",
   "metadata": {},
   "outputs": [
    {
     "data": {
      "text/plain": [
       "32"
      ]
     },
     "execution_count": 12,
     "metadata": {},
     "output_type": "execute_result"
    }
   ],
   "source": [
    "p1.age"
   ]
  },
  {
   "cell_type": "code",
   "execution_count": 13,
   "id": "73b0d73f",
   "metadata": {},
   "outputs": [
    {
     "data": {
      "text/plain": [
       "('Sameer', 32)"
      ]
     },
     "execution_count": 13,
     "metadata": {},
     "output_type": "execute_result"
    }
   ],
   "source": [
    "p1.person_details()"
   ]
  },
  {
   "cell_type": "markdown",
   "id": "eb4c42ed",
   "metadata": {},
   "source": [
    "# Q4. Why self is used in OOPS?"
   ]
  },
  {
   "cell_type": "code",
   "execution_count": 15,
   "id": "166c6cf4",
   "metadata": {},
   "outputs": [],
   "source": [
    "# The self variable is used to represent the instance/object/varaiable of the class which is often used in oops.It works as a\n",
    "# reference to the object.Python uses the self parameter to refer to instance attributes and methods of the class."
   ]
  },
  {
   "cell_type": "markdown",
   "id": "989618d1",
   "metadata": {},
   "source": [
    "# Q5.What is inheritance?Give an exmaple for each type of inheritance."
   ]
  },
  {
   "cell_type": "code",
   "execution_count": 16,
   "id": "ff912f9f",
   "metadata": {},
   "outputs": [],
   "source": [
    "# Inheritance in OOP = When a class derives from another class.The child class will inherit all the public and protected properties\n",
    "# and methods from the parent class. In addition, it can have its own properties and methods.An inherited class is defined by using \n",
    "# the extends keywords"
   ]
  },
  {
   "cell_type": "code",
   "execution_count": 17,
   "id": "104b98f4",
   "metadata": {},
   "outputs": [],
   "source": [
    "class Person:\n",
    "    \n",
    "    def __init__(self,fname,lname):\n",
    "        self.first_name = fname\n",
    "        self.last_name = lname\n",
    "    def print_name(self):\n",
    "        print(self.first_name,self.last_name)"
   ]
  },
  {
   "cell_type": "code",
   "execution_count": 18,
   "id": "ea2ef69d",
   "metadata": {},
   "outputs": [],
   "source": [
    "class Student(Person):\n",
    "    pass"
   ]
  },
  {
   "cell_type": "code",
   "execution_count": 20,
   "id": "781fc277",
   "metadata": {},
   "outputs": [],
   "source": [
    "p1 = Student(\"Rahul\",\"Yadav\")"
   ]
  },
  {
   "cell_type": "code",
   "execution_count": 21,
   "id": "7dcd2471",
   "metadata": {},
   "outputs": [
    {
     "data": {
      "text/plain": [
       "'Rahul'"
      ]
     },
     "execution_count": 21,
     "metadata": {},
     "output_type": "execute_result"
    }
   ],
   "source": [
    "p1.first_name"
   ]
  },
  {
   "cell_type": "code",
   "execution_count": 22,
   "id": "c3b07e38",
   "metadata": {},
   "outputs": [
    {
     "data": {
      "text/plain": [
       "'Yadav'"
      ]
     },
     "execution_count": 22,
     "metadata": {},
     "output_type": "execute_result"
    }
   ],
   "source": [
    "p1.last_name"
   ]
  },
  {
   "cell_type": "code",
   "execution_count": 23,
   "id": "b12a9003",
   "metadata": {},
   "outputs": [
    {
     "name": "stdout",
     "output_type": "stream",
     "text": [
      "Rahul Yadav\n"
     ]
    }
   ],
   "source": [
    "p1.print_name()"
   ]
  },
  {
   "cell_type": "code",
   "execution_count": null,
   "id": "307405c6",
   "metadata": {},
   "outputs": [],
   "source": [
    "# End"
   ]
  }
 ],
 "metadata": {
  "kernelspec": {
   "display_name": "Python 3 (ipykernel)",
   "language": "python",
   "name": "python3"
  },
  "language_info": {
   "codemirror_mode": {
    "name": "ipython",
    "version": 3
   },
   "file_extension": ".py",
   "mimetype": "text/x-python",
   "name": "python",
   "nbconvert_exporter": "python",
   "pygments_lexer": "ipython3",
   "version": "3.9.12"
  }
 },
 "nbformat": 4,
 "nbformat_minor": 5
}

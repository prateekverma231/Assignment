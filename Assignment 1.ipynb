{
 "cells": [
  {
   "cell_type": "code",
   "execution_count": 1,
   "id": "91337533-b5b4-4829-b8ba-987caddaf992",
   "metadata": {},
   "outputs": [],
   "source": [
    "# Who developed Python programming language?\n",
    "\n",
    " # ans.Python was developed by It was created by Guido van Rossum, and released in 1991.\n",
    "\n",
    " #It is used for:\n",
    "\n",
    " #web development (server-side),\n",
    " #software development,\n",
    " #mathematics,\n",
    " #system scripting."
   ]
  },
  {
   "cell_type": "code",
   "execution_count": 1,
   "id": "9f49f897-437b-4bc4-855b-d5f5d5f74a87",
   "metadata": {},
   "outputs": [],
   "source": [
    "# Which type of programming does Python support?\n",
    "\n",
    " # Ans. Python is a high-level,general-purpose programming language. Its design philosophy emhphasizes code readibility with the use of significant indentation.\n",
    " #It supports multiple programming paradigms, inclding structured,object oriented and functional programming.It is often  described as a \"batteries included\" language\n",
    " #due to its comprehensive standard library."
   ]
  },
  {
   "cell_type": "code",
   "execution_count": 5,
   "id": "6dbc9926-a0cc-4a6f-9261-ee684fb42fea",
   "metadata": {},
   "outputs": [],
   "source": [
    "# Is Python case sensitive when dealing with identifiers?\n",
    "\n",
    " #Ans.Yes ,Python is a case sensitive language,i.e,it treats uppercase and lowercase characters differently. This applies to identifiersbtoo.\n",
    " # we must avoid using the same name with different cases while naming identifiers.  \n"
   ]
  },
  {
   "cell_type": "code",
   "execution_count": 6,
   "id": "deccc647-54ba-4393-85c0-dd772c523a67",
   "metadata": {},
   "outputs": [],
   "source": [
    "#What is the correct extension of the Python file?\n",
    "\n",
    " # Ans.The correct extenion for Python files are - .py, .pyi, .pyc, .pyd, .pyo, .pyw, and .pyz."
   ]
  },
  {
   "cell_type": "code",
   "execution_count": 7,
   "id": "ef72fb4d-4ac5-49f8-a11e-f95242560cca",
   "metadata": {},
   "outputs": [],
   "source": [
    "# Is Python code compiled or interpreted?\n",
    "\n",
    " # Ans.Python is an interpreted language, which means the source code of a Python program is converted into bytecode that is then executed by the Python virtual machine."
   ]
  },
  {
   "cell_type": "code",
   "execution_count": 8,
   "id": "0de63cc0-9745-4851-8ecf-3674e27ee52d",
   "metadata": {},
   "outputs": [
    {
     "name": "stdout",
     "output_type": "stream",
     "text": [
      "1\n",
      "2\n",
      "3\n",
      "4\n"
     ]
    }
   ],
   "source": [
    "# Namea few blocks of code used to define in Python language?\n",
    "\n",
    " # Ans.Indentation is used to define a block of code in python. Braces {} are used to define a block of code in most programming languages, like C, C++, and Java. \n",
    " #But this indentation makes python unique among all programming languages.This indentation highlights the block of code. In Python, indentation is done with whitespace. \n",
    " #All statements with the same right-hand distance belong to the same code block. If a block needs to be more nested, it is indented to the right.\n",
    " #Indentation is only used in most other programming languages to help make the code look nice. However, it is required in Python to indicate which block of code a statement belongs to.\n",
    "\n",
    " #Examples-\n",
    "i=1\n",
    "while(i<=4):\n",
    "    print(i)\n",
    "    i = i+1\n"
   ]
  },
  {
   "cell_type": "code",
   "execution_count": null,
   "id": "9374f6cf-2315-4d9a-b442-21c95bf07218",
   "metadata": {},
   "outputs": [],
   "source": [
    "#  State a character used to give single-line comments in Python?\n",
    "\n",
    "# Ans- hash character (#)"
   ]
  },
  {
   "cell_type": "code",
   "execution_count": 2,
   "id": "24d854a4-6372-4405-be56-e93e3683da7c",
   "metadata": {},
   "outputs": [
    {
     "name": "stdout",
     "output_type": "stream",
     "text": [
      "Python version\n",
      "3.10.6 | packaged by conda-forge | (main, Aug 22 2022, 20:35:26) [GCC 10.4.0]\n",
      "Version info\n",
      "sys.version_info(major=3, minor=10, micro=6, releaselevel='final', serial=0)\n"
     ]
    }
   ],
   "source": [
    "# Mention functions which can helps us to find the version of Python that we are currently working on?\n",
    "\n",
    "# Ans.The function sys. version can help us to find the version of python that we are currently working on.\n",
    "import sys\n",
    "print(\"Python version\")\n",
    "print(sys.version)\n",
    "print(\"Version info\")\n",
    "print(sys.version_info)"
   ]
  },
  {
   "cell_type": "code",
   "execution_count": 2,
   "id": "c63a3a4d-76e5-4126-9841-871793570483",
   "metadata": {},
   "outputs": [],
   "source": [
    "# Pyton supports creation o anonymous functions of runtime, using a construct called------\n",
    "\n",
    "# ans.Python supports the creation of anonymous functions (i.e. functions that are not bound to a name) at runtime, using a construct called lambda."
   ]
  },
  {
   "cell_type": "code",
   "execution_count": 3,
   "id": "61ff1844-4256-45c8-9cda-08327bcb9bea",
   "metadata": {},
   "outputs": [],
   "source": [
    "# What does pip stand for Python?\n",
    "\n",
    "# Ans.pip stands for \"preferred installer program\"."
   ]
  },
  {
   "cell_type": "code",
   "execution_count": 4,
   "id": "4bdbb6c7-25f6-4661-a391-a9ad9653910d",
   "metadata": {},
   "outputs": [],
   "source": [
    "# Mention a few built-in functions in Python?\n",
    "\n",
    "# Ans.print( ) function\n",
    "# type( ) function\n",
    "# input( ) function\n",
    "# max( ) function\n",
    "# len( ) function\n",
    "# sum( ) function\n",
    "# # help( ) function"
   ]
  },
  {
   "cell_type": "code",
   "execution_count": 6,
   "id": "a78d9b8f-fa1b-4f08-888e-c52c55942643",
   "metadata": {},
   "outputs": [],
   "source": [
    "# What is the maximum possible length of an identifier in Python?\n",
    "\n",
    "# ans. 79 characters"
   ]
  },
  {
   "cell_type": "code",
   "execution_count": null,
   "id": "95714168-df05-45c4-a360-2c9eea946b78",
   "metadata": {},
   "outputs": [],
   "source": [
    "# What are the benefits of using Python?\n",
    "\n",
    "# Ans.# Data science\n",
    "# Scientific and mathematical computing\n",
    "# Web development\n",
    "# Finance and trading\n",
    "# System automation and administration\n",
    "# Computer graphics\n",
    "# Basic game development\n",
    "# Security and penetration testing\n",
    "# General and application-specific scripting\n",
    "#  Mapping and geography (GIS software)"
   ]
  },
  {
   "cell_type": "code",
   "execution_count": 7,
   "id": "4c4d1f56-382c-4648-8a32-b99d72dddbe7",
   "metadata": {},
   "outputs": [],
   "source": [
    "# How is memory managed in Python?\n",
    "\n",
    "# Ans.Memory management in Python involves a private heap containing all Python objects and data structures. \n",
    "# The management of this private heap is ensured internally by the Python memory manager."
   ]
  },
  {
   "cell_type": "code",
   "execution_count": null,
   "id": "772945d4-0897-4f94-87e5-6bc641c00115",
   "metadata": {},
   "outputs": [],
   "source": [
    "# How to install Pythom on windows and set path variables?\n",
    "\n",
    "# ans. The complete path of python.exe can be added by:\n",
    "\n",
    "# Right-clicking This PC and going to Properties.\n",
    "\n",
    "# Clicking on the Advanced system settings in the menu on the left.\n",
    "\n",
    "# Clicking on the Environment Variables button on the bottom right.\n",
    "\n",
    "# In the System variables section, selecting the Path variable and clicking on Edit. The next screen will show all the directories that are currently a part of the PATH variable.\n",
    "\n",
    "# Clicking on New and entering Python’s install directory.\n",
    "\n",
    "# Python can now be used directly from the command prompt without having to write its location. Try executing the command python --version; it will output the version of Python installed on your system."
   ]
  },
  {
   "cell_type": "code",
   "execution_count": null,
   "id": "fb00a844-c763-47f5-ac68-804b3d3f15d3",
   "metadata": {},
   "outputs": [],
   "source": [
    "# Is indentation required in Python?\n",
    "# Ans .Yes\n",
    "# Python indentation is an important concept to know even before you get started with coding in Python. \n",
    "# This is because if you are not aware of how to indent a Python code, then you will end up seeing indentation errors and you code will not get compiled.\n"
   ]
  }
 ],
 "metadata": {
  "kernelspec": {
   "display_name": "Python 3 (ipykernel)",
   "language": "python",
   "name": "python3"
  },
  "language_info": {
   "codemirror_mode": {
    "name": "ipython",
    "version": 3
   },
   "file_extension": ".py",
   "mimetype": "text/x-python",
   "name": "python",
   "nbconvert_exporter": "python",
   "pygments_lexer": "ipython3",
   "version": "3.10.6"
  }
 },
 "nbformat": 4,
 "nbformat_minor": 5
}
